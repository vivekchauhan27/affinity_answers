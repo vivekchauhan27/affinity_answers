{
 "cells": [
  {
   "cell_type": "code",
   "execution_count": 2,
   "id": "656ccba0",
   "metadata": {},
   "outputs": [],
   "source": [
    "from bs4 import BeautifulSoup\n",
    "import requests\n",
    "import csv\n"
   ]
  },
  {
   "cell_type": "code",
   "execution_count": 3,
   "id": "eaef1f0f",
   "metadata": {},
   "outputs": [],
   "source": [
    "url=\"https://www.olx.in/items/q-car-cover?isSearchCall=true\"\n",
    "#headers for request\n",
    "header= ({'User-Agent':'Mozilla/5.0 (Windows NT 10.0; WOW64; x64; rv:134.0) Gecko/20100101 Firefox/134.0/O7c6nMmqjoD','Accept-Language': 'en-US, en;q=0.5'})\n",
    "webpage =requests.get(url, headers=header)"
   ]
  },
  {
   "cell_type": "code",
   "execution_count": 5,
   "id": "e3a18832",
   "metadata": {},
   "outputs": [],
   "source": [
    "soup=BeautifulSoup(webpage.text, 'html.parser')\n",
    "prices = soup.find_all('span', class_='_2Ks63')\n",
    "items_name = soup.find_all('span', class_='_2poNJ')\n",
    "item_adress = soup.find_all('span', class_='_2VQu4')\n",
    "post_date = soup.find_all('span', class_='_2jcGx')\n",
    "file=open(\"olx_data.csv\", \"w\", newline='', encoding='utf-8')\n",
    "writer=csv.writer(file)\n",
    "writer.writerow(['Item Name', 'Price', 'Address', 'Post Date'])\n",
    "for price, name, adress, date in zip(prices, items_name, item_adress, post_date):\n",
    "  writer.writerow([name.text, price.text, adress.text, date.text])\n",
    " \n",
    "file.close() "
   ]
  },
  {
   "cell_type": "code",
   "execution_count": null,
   "id": "cb17a998",
   "metadata": {},
   "outputs": [],
   "source": []
  }
 ],
 "metadata": {
  "kernelspec": {
   "display_name": "Python 3",
   "language": "python",
   "name": "python3"
  },
  "language_info": {
   "codemirror_mode": {
    "name": "ipython",
    "version": 3
   },
   "file_extension": ".py",
   "mimetype": "text/x-python",
   "name": "python",
   "nbconvert_exporter": "python",
   "pygments_lexer": "ipython3",
   "version": "3.12.3"
  }
 },
 "nbformat": 4,
 "nbformat_minor": 5
}
